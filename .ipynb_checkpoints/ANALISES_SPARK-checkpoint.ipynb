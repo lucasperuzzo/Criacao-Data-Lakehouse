{
 "cells": [
  {
   "cell_type": "markdown",
   "metadata": {
    "application/vnd.databricks.v1+cell": {
     "inputWidgets": {},
     "nuid": "c6eb314c-d0ae-474c-86d8-3b2f12f3ee14",
     "showTitle": false,
     "title": ""
    }
   },
   "source": [
    "# Análises a partir do Data Lakehouse criado"
   ]
  },
  {
   "cell_type": "markdown",
   "metadata": {
    "application/vnd.databricks.v1+cell": {
     "inputWidgets": {},
     "nuid": "8eab785a-d842-4839-bfac-a6ea38617d84",
     "showTitle": false,
     "title": ""
    }
   },
   "source": [
    "### 1 - Quais são os três produtos MENOS vendidos?"
   ]
  },
  {
   "cell_type": "code",
   "execution_count": 0,
   "metadata": {
    "application/vnd.databricks.v1+cell": {
     "inputWidgets": {},
     "nuid": "872f6237-51d7-4c16-bdf0-9be1cda23cc4",
     "showTitle": false,
     "title": ""
    }
   },
   "outputs": [
    {
     "data": {
      "text/html": [
       "<style scoped>\n",
       "  .table-result-container {\n",
       "    max-height: 300px;\n",
       "    overflow: auto;\n",
       "  }\n",
       "  table, th, td {\n",
       "    border: 1px solid black;\n",
       "    border-collapse: collapse;\n",
       "  }\n",
       "  th, td {\n",
       "    padding: 5px;\n",
       "  }\n",
       "  th {\n",
       "    text-align: left;\n",
       "  }\n",
       "</style><div class='table-result-container'><table class='table-result'><thead style='background-color: white'><tr><th>product_id</th><th>product_name</th><th>quantidade_vendida</th></tr></thead><tbody><tr><td>9</td><td>Mishi Kobe Niku</td><td>5</td></tr><tr><td>48</td><td>Chocolade</td><td>6</td></tr><tr><td>15</td><td>Genen Shouyu</td><td>6</td></tr></tbody></table></div>"
      ]
     },
     "metadata": {
      "application/vnd.databricks.v1+output": {
       "addedWidgets": {},
       "aggData": [],
       "aggError": "",
       "aggOverflow": false,
       "aggSchema": [],
       "aggSeriesLimitReached": false,
       "aggType": "",
       "arguments": {},
       "columnCustomDisplayInfos": {},
       "data": [
        [
         9,
         "Mishi Kobe Niku",
         5
        ],
        [
         48,
         "Chocolade",
         6
        ],
        [
         15,
         "Genen Shouyu",
         6
        ]
       ],
       "datasetInfos": [],
       "dbfsResultPath": null,
       "isJsonSchema": true,
       "metadata": {},
       "overflow": false,
       "plotOptions": {
        "customPlotOptions": {},
        "displayType": "table",
        "pivotAggregation": null,
        "pivotColumns": null,
        "xColumns": null,
        "yColumns": null
       },
       "removedWidgets": [],
       "schema": [
        {
         "metadata": "{}",
         "name": "product_id",
         "type": "\"integer\""
        },
        {
         "metadata": "{}",
         "name": "product_name",
         "type": "\"string\""
        },
        {
         "metadata": "{}",
         "name": "quantidade_vendida",
         "type": "\"long\""
        }
       ],
       "type": "table"
      }
     },
     "output_type": "display_data"
    }
   ],
   "source": [
    "display(spark.sql(\n",
    "\"\"\" \n",
    "select\n",
    "        ft_orders.product_id,\n",
    "        dm_products.product_name,\n",
    "        count(ft_orders.product_id) as quantidade_vendida\n",
    "from ft_orders\n",
    "left join dm_products on ft_orders.product_id = dm_products.product_id\n",
    "group by ft_orders.product_id, dm_products.product_name\n",
    "order by quantidade_vendida asc limit 3\n",
    "\"\"\"\n",
    "))"
   ]
  },
  {
   "cell_type": "markdown",
   "metadata": {
    "application/vnd.databricks.v1+cell": {
     "inputWidgets": {},
     "nuid": "24d70697-1095-4df4-9af3-7f0369f669d7",
     "showTitle": false,
     "title": ""
    }
   },
   "source": [
    "### 2 - Quais são os cinco clientes que mais compras fizeram?"
   ]
  },
  {
   "cell_type": "code",
   "execution_count": 0,
   "metadata": {
    "application/vnd.databricks.v1+cell": {
     "inputWidgets": {},
     "nuid": "80a5c20d-9da0-4747-8a91-3361c2b53649",
     "showTitle": false,
     "title": ""
    }
   },
   "outputs": [
    {
     "data": {
      "text/html": [
       "<style scoped>\n",
       "  .table-result-container {\n",
       "    max-height: 300px;\n",
       "    overflow: auto;\n",
       "  }\n",
       "  table, th, td {\n",
       "    border: 1px solid black;\n",
       "    border-collapse: collapse;\n",
       "  }\n",
       "  th, td {\n",
       "    padding: 5px;\n",
       "  }\n",
       "  th {\n",
       "    text-align: left;\n",
       "  }\n",
       "</style><div class='table-result-container'><table class='table-result'><thead style='background-color: white'><tr><th>customer_id</th><th>contact_name</th><th>number_of_orders</th></tr></thead><tbody><tr><td>SAVEA</td><td>Jose Pavarotti</td><td>116</td></tr><tr><td>ERNSH</td><td>Roland Mendel</td><td>102</td></tr><tr><td>QUICK</td><td>Horst Kloss</td><td>86</td></tr><tr><td>RATTC</td><td>Paula Wilson</td><td>71</td></tr><tr><td>HUNGO</td><td>Patricia McKenna</td><td>55</td></tr></tbody></table></div>"
      ]
     },
     "metadata": {
      "application/vnd.databricks.v1+output": {
       "addedWidgets": {},
       "aggData": [],
       "aggError": "",
       "aggOverflow": false,
       "aggSchema": [],
       "aggSeriesLimitReached": false,
       "aggType": "",
       "arguments": {},
       "columnCustomDisplayInfos": {},
       "data": [
        [
         "SAVEA",
         "Jose Pavarotti",
         116
        ],
        [
         "ERNSH",
         "Roland Mendel",
         102
        ],
        [
         "QUICK",
         "Horst Kloss",
         86
        ],
        [
         "RATTC",
         "Paula Wilson",
         71
        ],
        [
         "HUNGO",
         "Patricia McKenna",
         55
        ]
       ],
       "datasetInfos": [],
       "dbfsResultPath": null,
       "isJsonSchema": true,
       "metadata": {},
       "overflow": false,
       "plotOptions": {
        "customPlotOptions": {},
        "displayType": "table",
        "pivotAggregation": null,
        "pivotColumns": null,
        "xColumns": null,
        "yColumns": null
       },
       "removedWidgets": [],
       "schema": [
        {
         "metadata": "{}",
         "name": "customer_id",
         "type": "\"string\""
        },
        {
         "metadata": "{}",
         "name": "contact_name",
         "type": "\"string\""
        },
        {
         "metadata": "{}",
         "name": "number_of_orders",
         "type": "\"long\""
        }
       ],
       "type": "table"
      }
     },
     "output_type": "display_data"
    }
   ],
   "source": [
    "display(spark.sql(\n",
    "\"\"\" \n",
    "select\n",
    "        ft_orders_by_customers.customer_id,\n",
    "        dm_customers.contact_name,\n",
    "        ft_orders_by_customers.number_of_orders\n",
    "from ft_orders_by_customers\n",
    "left join dm_customers on ft_orders_by_customers.customer_id = dm_customers.customer_id\n",
    "order by ft_orders_by_customers.number_of_orders desc limit 5\n",
    "\"\"\"\n",
    "))"
   ]
  },
  {
   "cell_type": "markdown",
   "metadata": {
    "application/vnd.databricks.v1+cell": {
     "inputWidgets": {},
     "nuid": "714a7a08-4600-4e97-9be6-a44e7ac78819",
     "showTitle": false,
     "title": ""
    }
   },
   "source": [
    "### 3 - Quais são os cinco clientes com maior total de vendas?"
   ]
  },
  {
   "cell_type": "code",
   "execution_count": 0,
   "metadata": {
    "application/vnd.databricks.v1+cell": {
     "inputWidgets": {},
     "nuid": "181b9d1b-8a49-4971-a78a-9ade3f5bbdea",
     "showTitle": false,
     "title": ""
    }
   },
   "outputs": [
    {
     "data": {
      "text/html": [
       "<style scoped>\n",
       "  .table-result-container {\n",
       "    max-height: 300px;\n",
       "    overflow: auto;\n",
       "  }\n",
       "  table, th, td {\n",
       "    border: 1px solid black;\n",
       "    border-collapse: collapse;\n",
       "  }\n",
       "  th, td {\n",
       "    padding: 5px;\n",
       "  }\n",
       "  th {\n",
       "    text-align: left;\n",
       "  }\n",
       "</style><div class='table-result-container'><table class='table-result'><thead style='background-color: white'><tr><th>customer_id</th><th>contact_name</th><th>total_spent_money</th></tr></thead><tbody><tr><td>QUICK</td><td>Horst Kloss</td><td>117477.44036865234</td></tr><tr><td>SAVEA</td><td>Jose Pavarotti</td><td>115663.7900314331</td></tr><tr><td>ERNSH</td><td>Roland Mendel</td><td>113229.73022079468</td></tr><tr><td>HUNGO</td><td>Patricia McKenna</td><td>57311.14052391052</td></tr><tr><td>RATTC</td><td>Paula Wilson</td><td>52243.4102306366</td></tr></tbody></table></div>"
      ]
     },
     "metadata": {
      "application/vnd.databricks.v1+output": {
       "addedWidgets": {},
       "aggData": [],
       "aggError": "",
       "aggOverflow": false,
       "aggSchema": [],
       "aggSeriesLimitReached": false,
       "aggType": "",
       "arguments": {},
       "columnCustomDisplayInfos": {},
       "data": [
        [
         "QUICK",
         "Horst Kloss",
         117477.44036865234
        ],
        [
         "SAVEA",
         "Jose Pavarotti",
         115663.7900314331
        ],
        [
         "ERNSH",
         "Roland Mendel",
         113229.73022079468
        ],
        [
         "HUNGO",
         "Patricia McKenna",
         57311.14052391052
        ],
        [
         "RATTC",
         "Paula Wilson",
         52243.4102306366
        ]
       ],
       "datasetInfos": [],
       "dbfsResultPath": null,
       "isJsonSchema": true,
       "metadata": {},
       "overflow": false,
       "plotOptions": {
        "customPlotOptions": {},
        "displayType": "table",
        "pivotAggregation": null,
        "pivotColumns": null,
        "xColumns": null,
        "yColumns": null
       },
       "removedWidgets": [],
       "schema": [
        {
         "metadata": "{}",
         "name": "customer_id",
         "type": "\"string\""
        },
        {
         "metadata": "{}",
         "name": "contact_name",
         "type": "\"string\""
        },
        {
         "metadata": "{}",
         "name": "total_spent_money",
         "type": "\"double\""
        }
       ],
       "type": "table"
      }
     },
     "output_type": "display_data"
    }
   ],
   "source": [
    "display(spark.sql(\n",
    "\"\"\" \n",
    "select\n",
    "        ft_orders_by_customers.customer_id,\n",
    "        dm_customers.contact_name,\n",
    "        ft_orders_by_customers.total_spent_money\n",
    "from ft_orders_by_customers\n",
    "left join dm_customers on ft_orders_by_customers.customer_id = dm_customers.customer_id\n",
    "order by ft_orders_by_customers.total_spent_money desc limit 5\n",
    "\"\"\"\n",
    "))"
   ]
  },
  {
   "cell_type": "markdown",
   "metadata": {
    "application/vnd.databricks.v1+cell": {
     "inputWidgets": {},
     "nuid": "6d10a014-25ac-4b6e-8673-fab35506e26a",
     "showTitle": false,
     "title": ""
    }
   },
   "source": [
    "### 4 - Qual o melhor funcionário do último mês registrado? (total de vendas)"
   ]
  },
  {
   "cell_type": "code",
   "execution_count": 0,
   "metadata": {
    "application/vnd.databricks.v1+cell": {
     "inputWidgets": {},
     "nuid": "b40e2d30-7c35-4d22-98f2-d608f51e3a8e",
     "showTitle": false,
     "title": ""
    }
   },
   "outputs": [
    {
     "data": {
      "text/html": [
       "<style scoped>\n",
       "  .table-result-container {\n",
       "    max-height: 300px;\n",
       "    overflow: auto;\n",
       "  }\n",
       "  table, th, td {\n",
       "    border: 1px solid black;\n",
       "    border-collapse: collapse;\n",
       "  }\n",
       "  th, td {\n",
       "    padding: 5px;\n",
       "  }\n",
       "  th {\n",
       "    text-align: left;\n",
       "  }\n",
       "</style><div class='table-result-container'><table class='table-result'><thead style='background-color: white'><tr><th>employee_id</th><th>first_name</th><th>last_name</th><th>sales</th></tr></thead><tbody><tr><td>1</td><td>Nancy</td><td>Davolio</td><td>7052.659925460815</td></tr></tbody></table></div>"
      ]
     },
     "metadata": {
      "application/vnd.databricks.v1+output": {
       "addedWidgets": {},
       "aggData": [],
       "aggError": "",
       "aggOverflow": false,
       "aggSchema": [],
       "aggSeriesLimitReached": false,
       "aggType": "",
       "arguments": {},
       "columnCustomDisplayInfos": {},
       "data": [
        [
         1,
         "Nancy",
         "Davolio",
         7052.659925460815
        ]
       ],
       "datasetInfos": [],
       "dbfsResultPath": null,
       "isJsonSchema": true,
       "metadata": {},
       "overflow": false,
       "plotOptions": {
        "customPlotOptions": {},
        "displayType": "table",
        "pivotAggregation": null,
        "pivotColumns": null,
        "xColumns": null,
        "yColumns": null
       },
       "removedWidgets": [],
       "schema": [
        {
         "metadata": "{}",
         "name": "employee_id",
         "type": "\"integer\""
        },
        {
         "metadata": "{}",
         "name": "first_name",
         "type": "\"string\""
        },
        {
         "metadata": "{}",
         "name": "last_name",
         "type": "\"string\""
        },
        {
         "metadata": "{}",
         "name": "sales",
         "type": "\"double\""
        }
       ],
       "type": "table"
      }
     },
     "output_type": "display_data"
    }
   ],
   "source": [
    "display(spark.sql(\n",
    "\"\"\" \n",
    "select\n",
    "        ft_orders_last_month_by_employee.employee_id,\n",
    "        dm_employees.first_name,\n",
    "        dm_employees.last_name,\n",
    "        ft_orders_last_month_by_employee.sales\n",
    "from ft_orders_last_month_by_employee\n",
    "left join dm_employees on ft_orders_last_month_by_employee.employee_id = dm_employees.employee_id\n",
    "order by ft_orders_last_month_by_employee.sales desc limit 1\n",
    "\"\"\"\n",
    "))"
   ]
  },
  {
   "cell_type": "markdown",
   "metadata": {
    "application/vnd.databricks.v1+cell": {
     "inputWidgets": {},
     "nuid": "5e44a659-e94a-4765-aa2d-3bd1e6d69d8a",
     "showTitle": false,
     "title": ""
    }
   },
   "source": [
    "### 5 - Quais as regiões com menos clientes cadastrados?"
   ]
  },
  {
   "cell_type": "code",
   "execution_count": 0,
   "metadata": {
    "application/vnd.databricks.v1+cell": {
     "inputWidgets": {},
     "nuid": "1ab6b62d-4993-4422-907f-cd19eecd987f",
     "showTitle": false,
     "title": ""
    }
   },
   "outputs": [
    {
     "data": {
      "text/html": [
       "<style scoped>\n",
       "  .table-result-container {\n",
       "    max-height: 300px;\n",
       "    overflow: auto;\n",
       "  }\n",
       "  table, th, td {\n",
       "    border: 1px solid black;\n",
       "    border-collapse: collapse;\n",
       "  }\n",
       "  th, td {\n",
       "    padding: 5px;\n",
       "  }\n",
       "  th {\n",
       "    text-align: left;\n",
       "  }\n",
       "</style><div class='table-result-container'><table class='table-result'><thead style='background-color: white'><tr><th>region</th><th>quantidade_clientes</th></tr></thead><tbody><tr><td>Québec</td><td>1</td></tr><tr><td>WY</td><td>1</td></tr><tr><td>ID</td><td>1</td></tr><tr><td>CA</td><td>1</td></tr><tr><td>MT</td><td>1</td></tr><tr><td>NM</td><td>1</td></tr><tr><td>Co. Cork</td><td>1</td></tr><tr><td>Isle of Wight</td><td>1</td></tr><tr><td>Nueva Esparta</td><td>1</td></tr><tr><td>Táchira</td><td>1</td></tr><tr><td>DF</td><td>1</td></tr><tr><td>Lara</td><td>1</td></tr><tr><td>AK</td><td>1</td></tr></tbody></table></div>"
      ]
     },
     "metadata": {
      "application/vnd.databricks.v1+output": {
       "addedWidgets": {},
       "aggData": [],
       "aggError": "",
       "aggOverflow": false,
       "aggSchema": [],
       "aggSeriesLimitReached": false,
       "aggType": "",
       "arguments": {},
       "columnCustomDisplayInfos": {},
       "data": [
        [
         "Québec",
         1
        ],
        [
         "WY",
         1
        ],
        [
         "ID",
         1
        ],
        [
         "CA",
         1
        ],
        [
         "MT",
         1
        ],
        [
         "NM",
         1
        ],
        [
         "Co. Cork",
         1
        ],
        [
         "Isle of Wight",
         1
        ],
        [
         "Nueva Esparta",
         1
        ],
        [
         "Táchira",
         1
        ],
        [
         "DF",
         1
        ],
        [
         "Lara",
         1
        ],
        [
         "AK",
         1
        ]
       ],
       "datasetInfos": [],
       "dbfsResultPath": null,
       "isJsonSchema": true,
       "metadata": {},
       "overflow": false,
       "plotOptions": {
        "customPlotOptions": {},
        "displayType": "table",
        "pivotAggregation": null,
        "pivotColumns": null,
        "xColumns": null,
        "yColumns": null
       },
       "removedWidgets": [],
       "schema": [
        {
         "metadata": "{}",
         "name": "region",
         "type": "\"string\""
        },
        {
         "metadata": "{}",
         "name": "quantidade_clientes",
         "type": "\"long\""
        }
       ],
       "type": "table"
      }
     },
     "output_type": "display_data"
    }
   ],
   "source": [
    "display(spark.sql(\n",
    "\"\"\"\n",
    "select \n",
    "      region,\n",
    "      count(customer_id) as quantidade_clientes\n",
    "      from dm_customers\n",
    "      group by region\n",
    "      having quantidade_clientes = (select MIN(quantidade_clientes)\n",
    "                                    from (select count(customer_id) as quantidade_clientes\n",
    "                                          from dm_customers\n",
    "                                          group by region\n",
    "                                          )\n",
    "                                    )\n",
    "\"\"\"\n",
    "))"
   ]
  }
 ],
 "metadata": {
  "application/vnd.databricks.v1+notebook": {
   "dashboards": [],
   "language": "python",
   "notebookMetadata": {
    "pythonIndentUnit": 4
   },
   "notebookName": "LUCASPERUZZO_ANALISES_SPARK",
   "notebookOrigID": 2363654055640577,
   "widgets": {}
  },
  "kernelspec": {
   "display_name": "Python 3 (ipykernel)",
   "language": "python",
   "name": "python3"
  },
  "language_info": {
   "codemirror_mode": {
    "name": "ipython",
    "version": 3
   },
   "file_extension": ".py",
   "mimetype": "text/x-python",
   "name": "python",
   "nbconvert_exporter": "python",
   "pygments_lexer": "ipython3",
   "version": "3.9.12"
  }
 },
 "nbformat": 4,
 "nbformat_minor": 1
}
